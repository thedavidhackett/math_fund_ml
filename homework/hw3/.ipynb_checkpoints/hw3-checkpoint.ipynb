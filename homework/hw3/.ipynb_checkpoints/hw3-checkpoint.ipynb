{
 "cells": [
  {
   "cell_type": "markdown",
   "id": "6132dd12",
   "metadata": {},
   "source": [
    "# 3.\n",
    "\n",
    "## a)\n",
    "\n",
    "Probably not the best way to interpret the cateogries (it would be better instead of having $y$ be a single value it can be a vector of three acting as booleans for each category so that `[1 0 0]` indicates that the example belongs to the first category). But we could give each category an associated number, in this case -1,0, and 1. And then when we use our weights we find from least square to classify a new example then above 0.5 means the predicted label is 1, above -0.5 and below 0.5 means the predicted label is 0, and else it would be -1."
   ]
  },
  {
   "cell_type": "code",
   "execution_count": 21,
   "id": "65d28cd9",
   "metadata": {},
   "outputs": [
    {
     "name": "stdout",
     "output_type": "stream",
     "text": [
      "The average error rate is 0.42549333333333333\n"
     ]
    }
   ],
   "source": [
    "# STARTER CODE\n",
    "import numpy as np\n",
    "import scipy.io\n",
    "import numpy.linalg as la\n",
    "\n",
    "# load data, make sure ‘fisheriris.mat‘ is in your working directory\n",
    "data = scipy.io.loadmat(\"fisheriris.mat\")\n",
    "# training data\n",
    "X = data['meas']\n",
    "\n",
    "species = data['species']\n",
    "species = species.flatten()\n",
    "\n",
    "# YOUR CODE BELOW (process and assign numerical values to ‘y‘ according\n",
    "# ,→ to your (a), make sure ‘y‘ is a 1d numpy array. If dimensions are\n",
    "# ,→ mismatching, you may find ‘y = y.flatten()‘ useful )\n",
    "\n",
    "y = np.zeros(len(species))\n",
    "\n",
    "for idx, label in enumerate(species):\n",
    "    if label[0] == 'setosa':\n",
    "        y[idx] = 1\n",
    "    elif label[0] == 'versicolor':\n",
    "        y[idx] = -1\n",
    "    \n",
    "# number of random trials\n",
    "N = 10000\n",
    "# array to store errors\n",
    "errs = np.zeros(N)\n",
    "# size of training set\n",
    "num_train = 40;\n",
    "for i in np.arange(1, N+1):\n",
    "    # for each experiment, randomly pick training and holdout sets\n",
    "    idx_train = np.zeros(0, dtype=np.intp)\n",
    "    idx_holdout = np.zeros(0, dtype=np.intp)\n",
    "    for label_type in range(3):\n",
    "        r = np.random.permutation(50)\n",
    "        idx_train = np.concatenate((idx_train, 50 * label_type + r[:num_train]))\n",
    "        idx_holdout = np.concatenate((idx_holdout, 50 * label_type + r[num_train:]))\n",
    "        # divide data and labels into subsets\n",
    "    Xt = X[idx_train, :]\n",
    "    yt = y[idx_train]\n",
    "    Xh = X[idx_holdout]\n",
    "    yh = y[idx_holdout]\n",
    "\n",
    "    w = la.inv(Xt.T@Xt)@Xt.T@yt\n",
    "    y_tilde = Xh@w\n",
    "    y_hat = np.where(y_tilde > 0.5, 1, np.where(y_tilde >= -0.5, 0, -1))\n",
    "    trial_err = (yh - y_hat != 0).sum()/30\n",
    "    errs[i-1] = trial_err\n",
    "\n",
    "print(f\"The average error rate is {errs.mean()}\")"
   ]
  },
  {
   "cell_type": "markdown",
   "id": "8be42687",
   "metadata": {},
   "source": [
    "## c)"
   ]
  },
  {
   "cell_type": "code",
   "execution_count": 2,
   "id": "5e277a77",
   "metadata": {},
   "outputs": [
    {
     "name": "stdout",
     "output_type": "stream",
     "text": [
      "0.4298511620605979\n"
     ]
    }
   ],
   "source": [
    "errs = np.zeros((40, N))\n",
    "# size of training set\n",
    "max_num_train = 40;\n",
    "for i in range(40):\n",
    "    num_train = i + 1;\n",
    "    for j in range(N):\n",
    "        # for each experiment, randomly pick training and holdout sets\n",
    "        idx_train = np.zeros(0, dtype=np.intp)\n",
    "        idx_holdout = np.zeros(0, dtype=np.intp)\n",
    "        for label_type in range(3):\n",
    "            r = np.random.permutation(50)\n",
    "            idx_train = np.concatenate((idx_train, 50 * label_type + r[:num_train]))\n",
    "            idx_holdout = np.concatenate((idx_holdout, 50 * label_type + r[num_train:]))\n",
    "        # divide data and labels into subsets\n",
    "        Xt = X[idx_train, :]\n",
    "        yt = y[idx_train]\n",
    "        Xh = X[idx_holdout]\n",
    "        yh = y[idx_holdout]\n",
    "        \n",
    "        w = la.inv(Xt.T@Xt)@Xt.T@yt\n",
    "        y_tilde = Xh@w\n",
    "        y_hat = np.where(y_tilde > 0.5, 1, np.where(y_tilde >= -0.5, 0, -1))\n",
    "        avg_err = (yh - y_hat != 0).sum()/len(y_tilde)\n",
    "        errs[i, j] = avg_err"
   ]
  },
  {
   "cell_type": "code",
   "execution_count": 20,
   "id": "524427ea",
   "metadata": {},
   "outputs": [
    {
     "data": {
      "image/png": "[encoded data removed]",
      "text/plain": [
       "<Figure size 432x288 with 1 Axes>"
      ]
     },
     "metadata": {
      "needs_background": "light"
     },
     "output_type": "display_data"
    }
   ],
   "source": [
    "import matplotlib.pyplot as plt\n",
    "plt.plot(range(1,41),errs.mean(axis=1))\n",
    "plt.xlabel(\"Training Sample Size\")\n",
    "plt.ylabel(\"Average Error\")\n",
    "plt.show()\n"
   ]
  },
  {
   "cell_type": "code",
   "execution_count": 30,
   "id": "901c5673",
   "metadata": {},
   "outputs": [
    {
     "name": "stdout",
     "output_type": "stream",
     "text": [
      "[[ 0.71428571  0.42857143 -0.14285714]\n",
      " [ 0.42857143  0.35714286  0.21428571]\n",
      " [-0.14285714  0.21428571  0.92857143]]\n"
     ]
    },
    {
     "data": {
      "text/plain": [
       "array([[1.],\n",
       "       [1.],\n",
       "       [1.]])"
      ]
     },
     "execution_count": 30,
     "metadata": {},
     "output_type": "execute_result"
    }
   ],
   "source": [
    "v = np.array([[2],[-3],[1]])\n",
    "\n",
    "pt = v@v.T/14\n",
    "p = np.identity(3) - pt\n",
    "\n",
    "print(p)\n",
    "y = np.array([[1],[1],[1]])"
   ]
  },
  {
   "cell_type": "code",
   "execution_count": 33,
   "id": "10336096",
   "metadata": {},
   "outputs": [
    {
     "data": {
      "text/plain": [
       "array([[1.  ],\n",
       "       [3.12],\n",
       "       [4.16]])"
      ]
     },
     "execution_count": 33,
     "metadata": {},
     "output_type": "execute_result"
    }
   ],
   "source": [
    "u = np.array([[1,0],[0, 0.6],[0,0.8]])\n",
    "y = np.array([[1],[6],[2]])\n",
    "u@u.T@y"
   ]
  },
  {
   "cell_type": "code",
   "execution_count": null,
   "id": "80bd0421",
   "metadata": {},
   "outputs": [],
   "source": []
  }
 ],
 "metadata": {
  "kernelspec": {
   "display_name": "Python 3",
   "language": "python",
   "name": "python3"
  },
  "language_info": {
   "codemirror_mode": {
    "name": "ipython",
    "version": 3
   },
   "file_extension": ".py",
   "mimetype": "text/x-python",
   "name": "python",
   "nbconvert_exporter": "python",
   "pygments_lexer": "ipython3",
   "version": "3.8.8"
  }
 },
 "nbformat": 4,
 "nbformat_minor": 5
}
