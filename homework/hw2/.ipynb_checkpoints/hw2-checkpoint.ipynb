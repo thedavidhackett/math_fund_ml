{
 "cells": [
  {
   "cell_type": "code",
   "execution_count": 1,
   "id": "09b8da1d",
   "metadata": {},
   "outputs": [],
   "source": [
    "import scipy.io as sio\n",
    "import numpy as np"
   ]
  },
  {
   "cell_type": "code",
   "execution_count": 2,
   "id": "a47b76eb",
   "metadata": {},
   "outputs": [
    {
     "data": {
      "text/plain": [
       "array([[2, 1, 0, 1],\n",
       "       [1, 2, 1, 0],\n",
       "       [0, 1, 2, 1],\n",
       "       [1, 0, 1, 2]])"
      ]
     },
     "execution_count": 2,
     "metadata": {},
     "output_type": "execute_result"
    }
   ],
   "source": [
    "matrix1 = np.array([\n",
    "    [1,1,0,0],\n",
    "    [0,1,1,0],\n",
    "    [0,0,1,1],\n",
    "    [1,0,0,1],\n",
    "    [0,0,0,0]\n",
    "])\n",
    "\n",
    "np.linalg.matrix_rank(matrix1)\n",
    "\n",
    "matrix1.T@matrix1"
   ]
  },
  {
   "cell_type": "markdown",
   "id": "ea06e236",
   "metadata": {},
   "source": [
    "# 1.\n",
    "\n",
    "## a.\n",
    "\n",
    "At most there are three linearly independent columns, the set could be made up of any 3 of the four columns.\n",
    "\n",
    "## b.\n",
    "\n",
    "The matrix's rank is 3, we know this because it has three linearly independent columns.\n",
    "\n",
    "## c.\n",
    "\n",
    "$\n",
    "\\begin{bmatrix}1&0&0&1&0\\\\1&1&0&0&0\\\\0&1&1&0&0\\\\0&0&1&1&0\\end{bmatrix}\n",
    "\\begin{bmatrix}1&1&0&0\\\\0&1&1&0\\\\0&0&1&1\\\\1&0&0&1\\\\0&0&0&0\\end{bmatrix} =\n",
    "\\begin{bmatrix}2&1&0&1\\\\1&2&1&0\\\\0&1&2&1\\\\1&0&1&2\\end{bmatrix}\n",
    "$\n",
    "\n",
    "The rank of this matrix is 3 as well (it also has 3 linearly independent columns)"
   ]
  },
  {
   "cell_type": "code",
   "execution_count": 3,
   "id": "f93d0e3b",
   "metadata": {},
   "outputs": [
    {
     "data": {
      "text/plain": [
       "2"
      ]
     },
     "execution_count": 3,
     "metadata": {},
     "output_type": "execute_result"
    }
   ],
   "source": [
    "matrix2 = np.array([[2,3],[-8, 12],[4,-6]])\n",
    "np.linalg.matrix_rank(matrix2)"
   ]
  },
  {
   "cell_type": "markdown",
   "id": "491fd0b6",
   "metadata": {},
   "source": [
    "# 2.\n",
    "\n",
    "## a. \n",
    "\n",
    "Yes, there are two linearly independent columns. If the columns are $x_1,x_2$ there is no a and b such that $ax_1 + bx_2 = 0$ except if both a and b are 0. \n",
    "\n",
    "## b. \n",
    "\n",
    "Yes, there are three linearly independent columns. If the columns are $x_1,x_2,x_3$ there is no a, b, and c such that $ax_1 + bx_2 + cx_3 = 0$ except if a,b, and c are 0. \n",
    "\n",
    "## c.\n",
    "\n",
    "No, there are two linearly independent columns. If the columns are $x_1,x_2,x_3$ then $3x_2 - x_1 = x_3$ or in other words $-x_1 + 3x_2 - x_3 = 0$\n",
    "\n",
    "## d.\n",
    "\n",
    "The rank of the matrix is 2 since there are two linearly independent columns. Since there are only 2 columns the rank can be at most 2."
   ]
  },
  {
   "cell_type": "markdown",
   "id": "04ed42df",
   "metadata": {},
   "source": [
    "# 3.\n",
    "\n",
    "## a. \n",
    "\n",
    "$\\boldsymbol{w}^T(3\\boldsymbol{x}) = \\begin{bmatrix}3x_1w_1\\\\3x_2w_2\\\\...\\\\3x_iw_i\\end{bmatrix}$\n",
    "\n",
    "and df/dw of that matrix would be:\n",
    "\n",
    "$\\begin{bmatrix}3x_1\\\\3x_2\\\\...\\\\3x_i\\end{bmatrix}$\n",
    "\n",
    "So the gradient would be \n",
    "\n",
    "$3\\boldsymbol{x}$\n",
    "\n",
    "## b. \n",
    "\n",
    "$\n",
    "(w-x)^T(w-x) =\\\\\n",
    "w^Tw - x^Tw + x^Tx - w^Tx\\\\\n",
    "df/dw = 2w - x - x\\\\\n",
    "= 2w - 2x\n",
    "$\n",
    "\n",
    "## c.\n",
    "\n",
    "$\n",
    "x^T\\begin{bmatrix}1 & 2\\\\3 & 4\\end{bmatrix}w =\\\\ \n",
    "\\begin{bmatrix}x_1 + 3x_2 & 2x_1 + 4x_2\\end{bmatrix}\\begin{bmatrix}w_1\\\\w_2\\end{bmatrix} =\\\\\n",
    "\\begin{bmatrix}w_1(x_1 + 3x_2)\\\\w_2(2x_1 + 4x_2)\\end{bmatrix}\n",
    "$\n",
    "df/dw of that martrix would simply be\n",
    "$\n",
    "\\begin{bmatrix}x_1 + 3x_2\\\\2x_1 + 4x_2\\end{bmatrix}\n",
    "$\n",
    "\n",
    "## d.\n",
    "\n",
    "$\n",
    "w^T\\begin{bmatrix}1 & 1\\\\-1 & 1\\end{bmatrix}w\\\\\n",
    "df/dw = \\begin{bmatrix}1 & 1\\\\-1 & 1\\end{bmatrix}w + \\begin{bmatrix}1 & -1\\\\1 & 1\\end{bmatrix}w\\\\\n",
    "= \\begin{bmatrix}2 & 0\\\\0 & 2\\end{bmatrix}w\\\\\n",
    "= 2w\n",
    "$\n",
    "\n",
    "## e.\n",
    "$\n",
    "w^T\\begin{bmatrix}1 & 3\\\\5 & 9\\end{bmatrix}w\\\\\n",
    "df/dw = \\begin{bmatrix}1 & 3\\\\3 & 9\\end{bmatrix}w + \\begin{bmatrix}1 & 3\\\\3 & 9\\end{bmatrix}w\\\\\n",
    "= \\begin{bmatrix}2 & 6\\\\6 & 18\\end{bmatrix}w\\\\\n",
    "$"
   ]
  },
  {
   "cell_type": "markdown",
   "id": "58be9b79",
   "metadata": {},
   "source": [
    "# 4.\n",
    "\n",
    "## a.\n"
   ]
  },
  {
   "cell_type": "code",
   "execution_count": 4,
   "id": "1ea25f57",
   "metadata": {},
   "outputs": [],
   "source": [
    "matlab_data_file = sio.loadmat('face_emotion_data.mat')\n",
    "X = matlab_data_file['X']\n",
    "y = matlab_data_file['y']\n",
    "n,p = np.shape(X )"
   ]
  },
  {
   "cell_type": "code",
   "execution_count": null,
   "id": "9816b97d",
   "metadata": {},
   "outputs": [],
   "source": []
  }
 ],
 "metadata": {
  "kernelspec": {
   "display_name": "Python 3 (ipykernel)",
   "language": "python",
   "name": "python3"
  },
  "language_info": {
   "codemirror_mode": {
    "name": "ipython",
    "version": 3
   },
   "file_extension": ".py",
   "mimetype": "text/x-python",
   "name": "python",
   "nbconvert_exporter": "python",
   "pygments_lexer": "ipython3",
   "version": "3.9.12"
  }
 },
 "nbformat": 4,
 "nbformat_minor": 5
}
