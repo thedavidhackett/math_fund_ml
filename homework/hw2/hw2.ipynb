{
 "cells": [
  {
   "cell_type": "code",
   "execution_count": 1,
   "id": "09b8da1d",
   "metadata": {},
   "outputs": [],
   "source": [
    "import scipy.io as sio\n",
    "import numpy as np\n",
    "import numpy.linalg as la\n",
    "import matplotlib . pyplot as plt"
   ]
  },
  {
   "cell_type": "markdown",
   "id": "ea06e236",
   "metadata": {},
   "source": [
    "# 1.\n",
    "\n",
    "## a.\n",
    "\n",
    "At most there are three linearly independent columns, the set could be made up of any 3 of the four columns.\n",
    "\n",
    "## b.\n",
    "\n",
    "The matrix's rank is 3, we know this because it has three linearly independent columns.\n",
    "\n",
    "## c.\n",
    "\n",
    "\n",
    "$\\begin{bmatrix}1 & 0 & 0 & 1 & 0\\\\1 & 1 & 0 & 0 & 0\\\\0 & 1 & 1 & 0 & 0\\\\0 & 0 & 1 & 1 &0\\end{bmatrix}$\n",
    "$\\begin{bmatrix}1 & 1 & 0 & 0\\\\0 & 1 & 1 & 0\\\\0 & 0 & 1 & 1\\\\1 & 0 & 0 & 1\\\\0 & 0 & 0 & 0\\end{bmatrix} =$\n",
    "$\\begin{bmatrix}2 & 1 & 0 & 1\\\\1 & 2 & 1 & 0\\\\0 & 1 & 2 & 1\\\\1 & 0 & 1 & 2\\end{bmatrix}$\n",
    "\n",
    "\n",
    "The rank of this matrix is 3 as well (it also has 3 linearly independent columns)"
   ]
  },
  {
   "cell_type": "markdown",
   "id": "491fd0b6",
   "metadata": {},
   "source": [
    "# 2.\n",
    "\n",
    "## a. \n",
    "\n",
    "Yes, there are two linearly independent columns. If the columns are $x_1,x_2$ there is no a and b such that $ax_1 + bx_2 = 0$ except if both a and b are 0. \n",
    "\n",
    "## b. \n",
    "\n",
    "Yes, there are three linearly independent columns. If the columns are $x_1,x_2,x_3$ there is no a, b, and c such that $ax_1 + bx_2 + cx_3 = 0$ except if a,b, and c are 0. \n",
    "\n",
    "## c.\n",
    "\n",
    "No, there are two linearly independent columns. If the columns are $x_1,x_2,x_3$ then $3x_2 - x_1 = x_3$ or in other words $-x_1 + 3x_2 - x_3 = 0$\n",
    "\n",
    "## d.\n",
    "\n",
    "The rank of the matrix is 2 since there are two linearly independent columns. Since there are only 2 columns the rank can be at most 2."
   ]
  },
  {
   "cell_type": "markdown",
   "id": "04ed42df",
   "metadata": {},
   "source": [
    "# 3.\n",
    "\n",
    "## a. \n",
    "\n",
    "$\\boldsymbol{w}^T(3\\boldsymbol{x}) = \\begin{bmatrix}3x_1w_1\\\\3x_2w_2\\\\...\\\\3x_iw_i\\end{bmatrix}$\n",
    "\n",
    "and df/dw of that matrix would be:\n",
    "\n",
    "$\\begin{bmatrix}3x_1\\\\3x_2\\\\...\\\\3x_i\\end{bmatrix}$\n",
    "\n",
    "So the gradient would be \n",
    "\n",
    "$3\\boldsymbol{x}$\n",
    "\n",
    "## b. \n",
    "\n",
    "\n",
    "$(w-x)^T(w-x) =$\n",
    "\n",
    "$w^Tw - x^Tw + x^Tx - w^Tx$\n",
    "\n",
    "$df/dw = 2w - x - x$\n",
    "\n",
    "$= 2w - 2x$\n",
    "\n",
    "\n",
    "## c.\n",
    "\n",
    "\n",
    "$x^T\\begin{bmatrix}1 & 2\\\\3 & 4\\end{bmatrix}w =$ \n",
    "\n",
    "$\\begin{bmatrix}x_1 + 3x_2 & 2x_1 + 4x_2\\end{bmatrix}\\begin{bmatrix}w_1\\\\w_2\\end{bmatrix} =$\n",
    "\n",
    "$\\begin{bmatrix}w_1(x_1 + 3x_2)\\\\w_2(2x_1 + 4x_2)\\end{bmatrix}$\n",
    "\n",
    "df/dw of that martrix would simply be\n",
    "$\\begin{bmatrix}x_1 + 3x_2\\\\2x_1 + 4x_2\\end{bmatrix}$\n",
    "\n",
    "## d.\n",
    "\n",
    "$w^T\\begin{bmatrix}1 & 1\\\\-1 & 1\\end{bmatrix}w$\n",
    "\n",
    "$df/dw = \\begin{bmatrix}1 & 1\\\\-1 & 1\\end{bmatrix}w + \\begin{bmatrix}1 & -1\\\\1 & 1\\end{bmatrix}w$\n",
    "\n",
    "$= \\begin{bmatrix}2 & 0\\\\0 & 2\\end{bmatrix}w$\n",
    "\n",
    "$= 2w$\n",
    "\n",
    "## e.\n",
    "$w^T\\begin{bmatrix}1 & 3\\\\5 & 9\\end{bmatrix}w$\n",
    "\n",
    "$df/dw = \\begin{bmatrix}1 & 3\\\\3 & 9\\end{bmatrix}w + \\begin{bmatrix}1 & 3\\\\3 & 9\\end{bmatrix}w$\n",
    "\n",
    "$= \\begin{bmatrix}2 & 6\\\\6 & 18\\end{bmatrix}w$\n"
   ]
  },
  {
   "cell_type": "markdown",
   "id": "91ab95fb",
   "metadata": {},
   "source": [
    "# 4.\n",
    "\n",
    "## a.\n"
   ]
  },
  {
   "cell_type": "code",
   "execution_count": 4,
   "id": "1ea25f57",
   "metadata": {},
   "outputs": [],
   "source": [
    "matlab_data_file = sio.loadmat('face_emotion_data.mat')\n",
    "X = matlab_data_file['X']\n",
    "y = matlab_data_file['y']\n",
    "n,p = np.shape(X)"
   ]
  },
  {
   "cell_type": "code",
   "execution_count": 5,
   "id": "29e5768e",
   "metadata": {},
   "outputs": [],
   "source": [
    "w = la.inv(X.T@X)@X.T@y"
   ]
  },
  {
   "cell_type": "code",
   "execution_count": 6,
   "id": "e220612c",
   "metadata": {},
   "outputs": [
    {
     "name": "stdout",
     "output_type": "stream",
     "text": [
      "[[ 0.94366942]\n",
      " [ 0.21373778]\n",
      " [ 0.26641775]\n",
      " [-0.39221373]\n",
      " [-0.00538552]\n",
      " [-0.01764687]\n",
      " [-0.16632809]\n",
      " [-0.0822838 ]\n",
      " [-0.16644364]]\n"
     ]
    }
   ],
   "source": [
    "print(w)"
   ]
  },
  {
   "cell_type": "markdown",
   "id": "c6042ef5",
   "metadata": {},
   "source": [
    "## b.\n",
    "\n",
    "If you were given a new face with a new vector to describe its features, lets call it $x$ you could simply use the dot product of x and w to find an estimate of y ie $\\widetilde{y} = x^Tw$. Since 1 indicates smiling and -1 indicates not smiling tf $\\widetilde{y}$ is above 0 then the prediction is smiling ie $\\hat{y} = 1$, if $\\widetilde{y}$ is 0 or below then the prediction is not smiling ie $\\hat{y} = -1$"
   ]
  },
  {
   "cell_type": "markdown",
   "id": "7220e4bc",
   "metadata": {},
   "source": [
    "## c.\n",
    "\n",
    "Assuming each feature is normalized then features 1, 3, and 4 would seem to be the most important since those have the largest absolute values. This means that as along as the features are normalized a 1 point change in any of those features would cause a larger change in the prediction of y. If you added 1 to feaure 1 then we'd expect our prediction for y to change by .944 vs if you added 1 to feature 9 we'd expect the prediction to decrease by only .166."
   ]
  },
  {
   "cell_type": "markdown",
   "id": "9f815594",
   "metadata": {},
   "source": [
    "## d.\n",
    "\n",
    "We could just use are 3 most important features removing all features except for 1, 3 and 4 so that X would be n x 3 and our W would be a vector of length 3."
   ]
  },
  {
   "cell_type": "markdown",
   "id": "79d193eb",
   "metadata": {},
   "source": [
    "## e."
   ]
  },
  {
   "cell_type": "code",
   "execution_count": 7,
   "id": "624ba36a",
   "metadata": {},
   "outputs": [],
   "source": [
    "Xs = np.split(X, 8)\n",
    "ys = np.split(y, 8)"
   ]
  },
  {
   "cell_type": "code",
   "execution_count": 8,
   "id": "fea553d0",
   "metadata": {},
   "outputs": [],
   "source": [
    "total_error_9 = 0\n",
    "total_error_3 = 0\n",
    "for idx in range(len(Xs)):\n",
    "    training_X = np.concatenate(Xs[:idx] + Xs[idx+1:])\n",
    "    training_y = np.concatenate(ys[:idx] + ys[idx+1:])\n",
    "    test_X = Xs[idx]\n",
    "    test_y = ys[idx]\n",
    "    w_hat = la.inv(training_X.T@training_X)@training_X.T@training_y\n",
    "    y_tilde = test_X@w_hat\n",
    "    y_hat = np.where(y_tilde > 0, 1, -1)\n",
    "    errors = ((y_hat - test_y)!=0).sum()\n",
    "    total_error_9 = total_error_9 + errors/16\n",
    "    w_hat = la.inv(training_X[:,[0,2,3]].T@training_X[:,[0,2,3]])@training_X[:,[0,2,3]].T@training_y\n",
    "    y_tilde = test_X[:,[0,2,3]]@w_hat\n",
    "    y_hat = np.where(y_tilde > 0, 1, -1)\n",
    "    errors = ((y_hat - test_y)!=0).sum()\n",
    "    total_error_3 = total_error_3 + errors/16\n",
    "    \n",
    "avg_error_9 = total_error_9/8\n",
    "avg_error_3 = total_error_3/8"
   ]
  },
  {
   "cell_type": "markdown",
   "id": "4a93bcb8",
   "metadata": {},
   "source": [
    "## f."
   ]
  },
  {
   "cell_type": "code",
   "execution_count": 9,
   "id": "441860c1",
   "metadata": {},
   "outputs": [
    {
     "name": "stdout",
     "output_type": "stream",
     "text": [
      "The average error using 9 features was 0.046875\n",
      "The average error using 3 features was 0.078125\n"
     ]
    }
   ],
   "source": [
    "print(f\"The average error using 9 features was {avg_error_9}\")\n",
    "print(f\"The average error using 3 features was {avg_error_3}\")"
   ]
  },
  {
   "cell_type": "markdown",
   "id": "f5fd9992",
   "metadata": {},
   "source": [
    "# 5.\n"
   ]
  },
  {
   "cell_type": "code",
   "execution_count": 10,
   "id": "61a6cf44",
   "metadata": {},
   "outputs": [
    {
     "data": {
      "image/png": "[encoded data removed]",
      "text/plain": [
       "<Figure size 432x288 with 1 Axes>"
      ]
     },
     "metadata": {
      "needs_background": "light"
     },
     "output_type": "display_data"
    }
   ],
   "source": [
    "# load x and y vectors\n",
    "d = sio.loadmat('polydata.mat')\n",
    "z = d['x']\n",
    "y = d['y']\n",
    "# n = number of data points\n",
    "# N = number of points to use for interpolation\n",
    "# z = points where interpolant is evaluated\n",
    "# p = array to store the values of the interpolated polynomials\n",
    "n = z.size\n",
    "N = 100\n",
    "z_test = np.linspace(np.min(z), np.max(z), N)\n",
    "p = np.zeros((3 , N ) )\n",
    "for d in [1 , 2 , 3]:\n",
    "    X = np.zeros((n,d + 1))\n",
    "    for i in range(n):\n",
    "        for j in range(d + 1):\n",
    "            X[i, j] = z[i]**j\n",
    "            \n",
    "    w = la.inv(X.T@X)@X.T@y\n",
    "    \n",
    "    X_test = np.zeros((N, d+1))\n",
    "    for i in range(N):\n",
    "        for j in range(d + 1):\n",
    "            X_test[i, j] = z_test[i]**j\n",
    "            \n",
    "    p[d-1] = (X_test@w).T\n",
    "    \n",
    "# generate X- matrix for this choice of d\n",
    "# solve least - squares problem . w is the list\n",
    "# of polynomial coefficients\n",
    "# evaluate best -fit polynomial at all points z_test ,\n",
    "# and store the result in p\n",
    "# NOTE ( optional ): this can be done in one line\n",
    "# with the polyval command !\n",
    "# plot the datapoints and the best -fit polynomials\n",
    "plt.plot(z, y, '.', z_test, p[0,:], z_test, p[1,:], z_test, p[2,:], linewidth=2)\n",
    "plt.legend(['data', 'd=1', 'd=2', 'd=3'], loc='upper left')\n",
    "plt.title('best fit polynomials of degree 1 , 2 , 3')\n",
    "plt.xlabel('x')\n",
    "plt.ylabel('y')\n",
    "plt.show()"
   ]
  },
  {
   "cell_type": "code",
   "execution_count": null,
   "id": "90366386",
   "metadata": {},
   "outputs": [],
   "source": []
  }
 ],
 "metadata": {
  "kernelspec": {
   "display_name": "Python 3 (ipykernel)",
   "language": "python",
   "name": "python3"
  },
  "language_info": {
   "codemirror_mode": {
    "name": "ipython",
    "version": 3
   },
   "file_extension": ".py",
   "mimetype": "text/x-python",
   "name": "python",
   "nbconvert_exporter": "python",
   "pygments_lexer": "ipython3",
   "version": "3.9.12"
  }
 },
 "nbformat": 4,
 "nbformat_minor": 5
}
