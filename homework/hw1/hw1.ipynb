{
 "cells": [
  {
   "cell_type": "code",
   "execution_count": 16,
   "id": "e89dc92f",
   "metadata": {},
   "outputs": [],
   "source": [
    "import numpy as np"
   ]
  },
  {
   "cell_type": "markdown",
   "id": "fa8fc79f",
   "metadata": {},
   "source": [
    "## 1. Matrix Multiplication\n",
    "\n",
    "### a)\n",
    "\n",
    "$\\begin{bmatrix}2500 & 350 & 200\\\\2000 & 405 & 250\\\\2000 & 325 & 400\\\\2000 & 210 & 450 \\end{bmatrix}$\n",
    "\n",
    "In this matrix the rows represent each month (September, October, November, and December respectively) and the columns represent each category of spending (housing, food, recreation/transportation). "
   ]
  },
  {
   "cell_type": "markdown",
   "id": "4b56d93a",
   "metadata": {},
   "source": [
    "### b)\n",
    "\n",
    "$\\begin{bmatrix}2500 & 350 & 200\\\\2000 & 405 & 250\\\\2000 & 325 & 400\\\\2000 & 210 & 450 \\end{bmatrix}\\begin{bmatrix}1 \\\\ 1 \\\\ 1\\end{bmatrix} =$\n",
    "\n",
    "\n",
    "$\\begin{bmatrix}2500 * 1 + 350 * 1 + 200 * 1\\\\2000 * 1 + 405 * 1 + 250 * 1\\\\2000 * 1 + 325 * 1 + 400 * 1\\\\2000 * 1 + 210 * 1 + 450 * 1 \\end{bmatrix} =$\n",
    "\n",
    "$\\begin{bmatrix}3050 \\\\ 2655 \\\\ 2725 \\\\2660 \\end{bmatrix}$\n",
    "\n",
    "So costs for September, October, November and December were 3050, 2655, 2725, and 2660 respectively. "
   ]
  },
  {
   "cell_type": "markdown",
   "id": "a8181b10",
   "metadata": {},
   "source": [
    "### c)\n",
    "\n",
    "$\\begin{bmatrix}1 & 1 & 1 & 1\\end{bmatrix}\\begin{bmatrix}2500 & 350 & 200\\\\2000 & 405 & 250\\\\2000 & 325 & 400\\\\2000 & 210 & 450 \\end{bmatrix} =$\n",
    "\n",
    "$\\begin{bmatrix}2500 * 1 & 350 * 1 & 200 * 1\\\\ + & + & +\\\\2000 * 1 & 405 * 1 & 250 * 1\\\\ + & + & +\\\\2000 * 1 & 325 * 1 & 400 * 1\\\\ + & + & +\\\\2000 * 1 & 210 * 1 & 450 * 1 \\end{bmatrix} =$\n",
    "\n",
    "$\\begin{bmatrix}8500 & 1290 & 1300\\end{bmatrix}$\n",
    "\n",
    "So costs for housing, food, and recreation/transportation are 8500, 1290, and 1300 respectively."
   ]
  },
  {
   "cell_type": "markdown",
   "id": "0f46d17b",
   "metadata": {},
   "source": [
    "### d)\n",
    "\n",
    "$\\begin{bmatrix}1 & 1 & 1 & 1\\end{bmatrix}\\begin{bmatrix}2500 & 350 & 200\\\\2000 & 405 & 250\\\\2000 & 325 & 400\\\\2000 & 210 & 450 \\end{bmatrix}\\begin{bmatrix}1 \\\\ 1 \\\\ 1\\end{bmatrix} =$\n",
    "\n",
    "\n",
    "$\\begin{bmatrix}1 & 1 & 1 & 1\\end{bmatrix}\\begin{bmatrix}2500 * 1 + 350 * 1 + 200 * 1\\\\2000 * 1 + 405 * 1 + 250 * 1\\\\2000 * 1 + 325 * 1 + 400 * 1\\\\2000 * 1 + 210 * 1 + 450 * 1 \\end{bmatrix} =$\n",
    "\n",
    "$\\begin{bmatrix}1 & 1 & 1 & 1\\end{bmatrix}\\begin{bmatrix}3050 \\\\ 2655 \\\\ 2725 \\\\2660 \\end{bmatrix} =$\n",
    "\n",
    "$\\begin{bmatrix}3050 * 1 + 2655 * 1 + 2725 * 1 + 2660 *1\\end{bmatrix} = 11090$\n",
    "\n",
    "Total costs are 11090"
   ]
  },
  {
   "cell_type": "markdown",
   "id": "dd32a530",
   "metadata": {},
   "source": [
    "### e)"
   ]
  },
  {
   "cell_type": "code",
   "execution_count": 17,
   "id": "f702457f",
   "metadata": {},
   "outputs": [
    {
     "data": {
      "text/plain": [
       "array([[3050],\n",
       "       [2655],\n",
       "       [2725],\n",
       "       [2660]])"
      ]
     },
     "execution_count": 17,
     "metadata": {},
     "output_type": "execute_result"
    }
   ],
   "source": [
    "# Our expenses matrix \n",
    "expenses_matrix = np.array([\n",
    "        [2500, 350, 200],\n",
    "        [2000, 405, 250],\n",
    "        [2000, 325, 400],\n",
    "        [2000, 210, 450]\n",
    "    ])\n",
    "\n",
    "# A 3 by 1 vector\n",
    "by_month = np.array([[1], [1], [1]])\n",
    "\n",
    "# costs per month\n",
    "expenses_matrix@by_month"
   ]
  },
  {
   "cell_type": "code",
   "execution_count": 18,
   "id": "ed282d2f",
   "metadata": {},
   "outputs": [
    {
     "data": {
      "text/plain": [
       "array([8500, 1290, 1300])"
      ]
     },
     "execution_count": 18,
     "metadata": {},
     "output_type": "execute_result"
    }
   ],
   "source": [
    "# costs per category\n",
    "\n",
    "# A 1 by 4 matrix\n",
    "by_cat = np.array([1,1,1,1])\n",
    "\n",
    "by_cat@expenses_matrix"
   ]
  },
  {
   "cell_type": "code",
   "execution_count": 19,
   "id": "92de836d",
   "metadata": {},
   "outputs": [
    {
     "data": {
      "text/plain": [
       "array([11090])"
      ]
     },
     "execution_count": 19,
     "metadata": {},
     "output_type": "execute_result"
    }
   ],
   "source": [
    "# All costs\n",
    "by_cat@expenses_matrix@by_month"
   ]
  },
  {
   "cell_type": "markdown",
   "id": "149881ad",
   "metadata": {},
   "source": [
    "## 2."
   ]
  },
  {
   "cell_type": "markdown",
   "id": "7b9fee55",
   "metadata": {},
   "source": [
    "### a) \n",
    "\n",
    "The vector (0, 0, 0, 1, 0) would get the fourth row:\n",
    "\n",
    "$\\begin{bmatrix}0 & 0 & 0 & 1 & 0\\end{bmatrix}\\begin{bmatrix}8 & 0 & 1 & 1\\\\9 & 2 & 9 & 4\\\\1 & 5 & 9 & 9\\\\9 & 9 & 4 & 7\\\\6 & 9 & 8 & 9\\end{bmatrix} =$\n",
    "\n",
    "$\\begin{bmatrix}8 * 0 & 0 * 0 & 1 * 0 & 1* 0\\\\+ & + & + & +\\\\9 * 0 & 2 * 0 & 9 * 0 & 4 * 0\\\\+ & + & + & +\\\\1 * 0 & 5 * 0 & 9 * 0 & 9 * 0\\\\+ & + & + & +\\\\9 * 1 & 9 * 1 & 4 * 1 & 7 * 1\\\\+ & + & + & +\\\\6 * 0 & 9 * 0 & 8 * 0 & 9 * 0\\end{bmatrix}=$\n",
    "\n",
    "$\\begin{bmatrix}9 & 9 & 4 & 7\\end{bmatrix}$"
   ]
  },
  {
   "cell_type": "markdown",
   "id": "48a5a65b",
   "metadata": {},
   "source": [
    "### b)\n",
    "\n",
    "A vector of length 5 with all 0s except for its kth entry which should be a 1 instead"
   ]
  },
  {
   "cell_type": "markdown",
   "id": "97202972",
   "metadata": {},
   "source": [
    "### c)\n",
    "\n",
    "A vector of length five with all 0s except for the scalar $a$ in the kth row and the scalar $b$ in the jth row"
   ]
  },
  {
   "cell_type": "markdown",
   "id": "c00cbe44",
   "metadata": {},
   "source": [
    "### d)\n",
    "The vector (0, 0, 1, 0) would get the third column"
   ]
  },
  {
   "cell_type": "markdown",
   "id": "4f0793d7",
   "metadata": {},
   "source": [
    "### e)\n",
    "\n",
    "A vector of length 4 with all 0s except for its kth entry which should be a 1 instead"
   ]
  },
  {
   "cell_type": "markdown",
   "id": "1f7d86f1",
   "metadata": {},
   "source": [
    "### f)\n",
    "A vector of length four with all 0s except for the scalar $a$ in the kth row and the scalar $b$ in the jth row"
   ]
  },
  {
   "cell_type": "markdown",
   "id": "cd953049",
   "metadata": {},
   "source": [
    "### (g)"
   ]
  },
  {
   "cell_type": "code",
   "execution_count": 20,
   "id": "1332fd37",
   "metadata": {},
   "outputs": [],
   "source": [
    "matrix2 = np.array([\n",
    "    [8, 0, 1, 1],\n",
    "    [9, 2, 9, 4],\n",
    "    [1, 5, 9, 9],\n",
    "    [9, 9, 4, 7],\n",
    "    [6, 9, 8, 9]\n",
    "])"
   ]
  },
  {
   "cell_type": "code",
   "execution_count": 21,
   "id": "b5efd970",
   "metadata": {},
   "outputs": [
    {
     "data": {
      "text/plain": [
       "array([9, 9, 4, 7])"
      ]
     },
     "execution_count": 21,
     "metadata": {},
     "output_type": "execute_result"
    }
   ],
   "source": [
    "# To get the fourth row\n",
    "np.array([0, 0, 0, 1, 0])@matrix2"
   ]
  },
  {
   "cell_type": "code",
   "execution_count": 22,
   "id": "afa70f81",
   "metadata": {},
   "outputs": [
    {
     "data": {
      "text/plain": [
       "array([1., 5., 9., 9.])"
      ]
     },
     "execution_count": 22,
     "metadata": {},
     "output_type": "execute_result"
    }
   ],
   "source": [
    "# Get kth row\n",
    "def get_kth_row(k, matrix):\n",
    "    m,n = matrix.shape\n",
    "    v = np.zeros(m)\n",
    "    v[k - 1] = 1\n",
    "    return v@matrix\n",
    "\n",
    "# get the 3rd row\n",
    "get_kth_row(3, matrix2)"
   ]
  },
  {
   "cell_type": "code",
   "execution_count": 23,
   "id": "623a57d1",
   "metadata": {},
   "outputs": [
    {
     "data": {
      "text/plain": [
       "array([43.,  6., 29., 14.])"
      ]
     },
     "execution_count": 23,
     "metadata": {},
     "output_type": "execute_result"
    }
   ],
   "source": [
    "# Get kth row times a plus jth row times b\n",
    "def row_combination(a,b,k,j,matrix):\n",
    "    m,n = matrix.shape\n",
    "    v = np.zeros(m)\n",
    "    v[k - 1] = a\n",
    "    v[j - 1] = b\n",
    "    return v@matrix\n",
    "\n",
    "# get 2 times first row plus 3 times second row\n",
    "row_combination(2,3,1,2, matrix2)"
   ]
  },
  {
   "cell_type": "code",
   "execution_count": 24,
   "id": "c1677d1d",
   "metadata": {},
   "outputs": [
    {
     "data": {
      "text/plain": [
       "array([1, 9, 9, 4, 8])"
      ]
     },
     "execution_count": 24,
     "metadata": {},
     "output_type": "execute_result"
    }
   ],
   "source": [
    "# To get the fourth column\n",
    "matrix2@np.array([0,0,1,0])"
   ]
  },
  {
   "cell_type": "code",
   "execution_count": 25,
   "id": "e2190f19",
   "metadata": {},
   "outputs": [
    {
     "data": {
      "text/plain": [
       "array([0., 2., 5., 9., 9.])"
      ]
     },
     "execution_count": 25,
     "metadata": {},
     "output_type": "execute_result"
    }
   ],
   "source": [
    "# Get kth column\n",
    "def get_kth_col(k, matrix):\n",
    "    m,n = matrix.shape\n",
    "    v = np.zeros(n)\n",
    "    v[k - 1] = 1\n",
    "    return matrix@v\n",
    "\n",
    "# get the 2nd column\n",
    "get_kth_col(2, matrix2)"
   ]
  },
  {
   "cell_type": "code",
   "execution_count": 26,
   "id": "a0d8a792",
   "metadata": {},
   "outputs": [
    {
     "data": {
      "text/plain": [
       "array([ 7., 53., 63., 34., 58.])"
      ]
     },
     "execution_count": 26,
     "metadata": {},
     "output_type": "execute_result"
    }
   ],
   "source": [
    "# Get kth columna times a plus jth column times b\n",
    "def col_combination(a,b,k,j,matrix):\n",
    "    m,n = matrix.shape\n",
    "    v = np.zeros(n)\n",
    "    v[k - 1] = a\n",
    "    v[j - 1] = b\n",
    "    return matrix@v\n",
    "\n",
    "# get 5 times third col plus 2 times fourth col\n",
    "col_combination(5,2,3,4, matrix2)"
   ]
  },
  {
   "cell_type": "markdown",
   "id": "97e6fa59",
   "metadata": {},
   "source": [
    "## 3.\n",
    "\n",
    "The matrix is rank 1 because all the columns (and rows) are linear combinations of each other. If the columns are the vectors $x_1, x_2, x_3$ then $x_2 = 2x_1$ and $x_3 = 3x_1$"
   ]
  },
  {
   "cell_type": "markdown",
   "id": "5899f9be",
   "metadata": {},
   "source": [
    "## 4. "
   ]
  },
  {
   "cell_type": "markdown",
   "id": "22222bbd",
   "metadata": {},
   "source": [
    "The line would be where $w^Tx_0 = 0$ or in this case $w_1x_1 + w_2x_2 + w_3 = 0$ or $ 3x_1 + 5x_2 - 2 = 0$ which when put into slope intercept form gives us $x_2 = -3/5x_1 + 2/5$. Everything above this line would have a +1 label on or below it has a -1 label. For instance the point 1, 2 would give us an 11 which is above 0 and there for a +1 label."
   ]
  },
  {
   "cell_type": "code",
   "execution_count": 27,
   "id": "5c67fb17",
   "metadata": {},
   "outputs": [
    {
     "data": {
      "text/plain": [
       "[<matplotlib.lines.Line2D at 0x1150e5dc0>]"
      ]
     },
     "execution_count": 27,
     "metadata": {},
     "output_type": "execute_result"
    },
    {
     "data": {
      "image/png": "[encoded data removed]",
      "text/plain": [
       "<Figure size 432x288 with 1 Axes>"
      ]
     },
     "metadata": {
      "needs_background": "light"
     },
     "output_type": "display_data"
    }
   ],
   "source": [
    "import matplotlib.pyplot as plt\n",
    "\n",
    "fig, ax = plt.subplots()\n",
    "ax.spines['left'].set_position('zero')\n",
    "ax.spines['right'].set_color('none')\n",
    "ax.spines['bottom'].set_position('zero')\n",
    "ax.spines['top'].set_color('none')\n",
    "\n",
    "x = np.linspace(-5, 5)\n",
    "\n",
    "ax.plot((-3 * x + 2)/5, x, linestyle='-')\n",
    "ax.plot(1, 2, marker=\"+\", markersize=15)"
   ]
  },
  {
   "cell_type": "markdown",
   "id": "9edccb5b",
   "metadata": {},
   "source": [
    "## 5. "
   ]
  },
  {
   "cell_type": "markdown",
   "id": "c6f55b72",
   "metadata": {},
   "source": [
    "### a)\n",
    "\n",
    "You'd want to have d + 1 coefficients (an extra one that would be a constant for z to the 0th power or in otherwords 1). So you would have w_j from j=0 to j=d and z to the dth power for each coefficient ie:\n",
    "\n",
    "$p(z) = y$\n",
    "\n",
    "$\\sum_{j=0}^d w_jz^d = y$\n",
    "\n",
    "So if d=3:\n",
    "\n",
    "$w_0z^0 + w_1z^1 + w_2z^2 + w_3z^3 = y$ "
   ]
  },
  {
   "cell_type": "markdown",
   "id": "d5c3bea7",
   "metadata": {},
   "source": [
    "### b)\n",
    "\n",
    "X should be a n by d+1 vector with each row being z_i to the power of 0...d then multipled by a vector of weights length d + 1 producing a y vector of length n (one for z) so:\n",
    "\n",
    "$\\begin{bmatrix}z_1^0 & z_1^1 & ... & z_1^d\\\\ z_2^0 & z_2^1 & ... & z_2^d\\\\... & ... & ... & ...\\\\z_n^0 & z_n^1 & ... & z_n^d \\end{bmatrix}\\begin{bmatrix}w_0 \\\\ w_1 \\\\ ... \\\\ w_d\\end{bmatrix} = \\begin{bmatrix}y_0 \\\\ y_1 \\\\ ... \\\\ y_n\\end{bmatrix}$"
   ]
  },
  {
   "cell_type": "markdown",
   "id": "39470ffc",
   "metadata": {},
   "source": [
    "### c)"
   ]
  },
  {
   "cell_type": "code",
   "execution_count": 28,
   "id": "b65d30a1",
   "metadata": {},
   "outputs": [
    {
     "data": {
      "image/png": "[encoded data removed]",
      "text/plain": [
       "<Figure size 432x288 with 1 Axes>"
      ]
     },
     "metadata": {
      "needs_background": "light"
     },
     "output_type": "display_data"
    }
   ],
   "source": [
    "n = 100\n",
    "z = np.linspace(-1, 1, n)\n",
    "d = 3\n",
    "w = np.random.rand(d + 1)\n",
    "X = np.zeros((n,d + 1))\n",
    "\n",
    "for i in range(n):\n",
    "    for j in range(d + 1):\n",
    "        X[i, j] = z[i]**j\n",
    "\n",
    "p = X@w\n",
    "\n",
    "plt.plot(z , p , linewidth=2)\n",
    "plt.xlabel('z')\n",
    "plt.ylabel('y')\n",
    "plt.title('polynomial with coefficients w = %s' %w)\n",
    "plt.show()"
   ]
  },
  {
   "cell_type": "code",
   "execution_count": null,
   "id": "6b8ea3c2",
   "metadata": {},
   "outputs": [],
   "source": []
  }
 ],
 "metadata": {
  "kernelspec": {
   "display_name": "Python 3 (ipykernel)",
   "language": "python",
   "name": "python3"
  },
  "language_info": {
   "codemirror_mode": {
    "name": "ipython",
    "version": 3
   },
   "file_extension": ".py",
   "mimetype": "text/x-python",
   "name": "python",
   "nbconvert_exporter": "python",
   "pygments_lexer": "ipython3",
   "version": "3.9.12"
  }
 },
 "nbformat": 4,
 "nbformat_minor": 5
}
