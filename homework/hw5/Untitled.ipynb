{
 "cells": [
  {
   "cell_type": "code",
   "execution_count": 1,
   "id": "c0ca18af",
   "metadata": {},
   "outputs": [],
   "source": [
    "import numpy as np\n",
    "import numpy.linalg as la\n",
    "import matplotlib.pyplot as plt\n",
    "import scipy.io as sio"
   ]
  },
  {
   "cell_type": "markdown",
   "id": "47a2cec2",
   "metadata": {},
   "source": [
    "## d)"
   ]
  },
  {
   "cell_type": "code",
   "execution_count": 2,
   "id": "6d8d805c",
   "metadata": {},
   "outputs": [
    {
     "data": {
      "image/png": "[encoded data removed]",
      "text/plain": [
       "<Figure size 432x288 with 2 Axes>"
      ]
     },
     "metadata": {
      "needs_background": "light"
     },
     "output_type": "display_data"
    }
   ],
   "source": [
    "n = 500\n",
    "k = 30\n",
    "sigma = 0.01\n",
    "\n",
    "def generate_noise(n, k, sigma, show_graph = False):\n",
    "    # generate random piecewise constant signal\n",
    "    w = np.zeros((n, 1))\n",
    "    w[0] = np.random.standard_normal()\n",
    "    for i in range(1, n):\n",
    "        if np.random.rand(1) < 0.95:\n",
    "            w[i] = w[i-1]\n",
    "        else:\n",
    "            w[i] = np.random.standard_normal()\n",
    "\n",
    "\n",
    "    # generate k-point averaging function\n",
    "    h = np.ones(k) / k\n",
    "\n",
    "    # make a matrix for blurring\n",
    "    m = n + k - 1\n",
    "    X = np.zeros((m, m))\n",
    "    for i in range(m):\n",
    "        if i < k:\n",
    "            X[i, :i+1] = h[:i+1]\n",
    "        else:\n",
    "            X[i, i - k: i] = h\n",
    "\n",
    "    X = X[:, 0:n]\n",
    "\n",
    "    # blurred signal + noise\n",
    "    y = np.dot(X, w) + sigma*np.random.standard_normal(size=(m, 1))\n",
    "    \n",
    "    if show_graph:\n",
    "        # plot\n",
    "        f, (ax1, ax2) = plt.subplots(1, 2)\n",
    "        ax1.set_title('signal')\n",
    "        ax1.plot(w)\n",
    "        ax2.set_title('blurred and noisy version')\n",
    "        ax2.plot(y[0:n])\n",
    "\n",
    "        plt.show()\n",
    "        \n",
    "    return X, w, y\n",
    "\n",
    "X, w, y = generate_noise(n, k, sigma, True)"
   ]
  },
  {
   "cell_type": "code",
   "execution_count": 209,
   "id": "03820ece",
   "metadata": {},
   "outputs": [
    {
     "name": "stdout",
     "output_type": "stream",
     "text": [
      "Best Lamda:  16\n",
      "Least Squares Mean Squared Error  0.062365753487521366\n"
     ]
    }
   ],
   "source": [
    "def reg_least_squares(X, w, y, print_msg = False):\n",
    "    D = np.eye(n)-2*np.diag(np.ones(n-1),-1)+np.diag(np.ones(n-2),-2);\n",
    "    lams = [0.5, 1, 2, 4, 8, 16, 32, 64]\n",
    "    errs = np.zeros(len(lams))\n",
    "    w_hats = []\n",
    "\n",
    "    for i in range(len(lams)):\n",
    "        w_hats.append(la.inv(X.T@X - lams[i]*D.T@D)@X.T@y)\n",
    "        errs[i] = np.mean(np.sum(w - w_hats[i])**2)\n",
    "\n",
    "\n",
    "    # get best one\n",
    "    best_idx = np.argmin(errs)\n",
    "    w_rls = w_hats[best_idx]\n",
    "    \n",
    "    if print_msg:\n",
    "        print(\"Best Lamda: \", lams[best_idx])\n",
    "        print(\"Least Squares Mean Squared Error \", errs[best_idx])\n",
    "    \n",
    "    return w_hats[best_idx]\n",
    "\n",
    "rls_pred = reg_least_squares(X, w, y, True)"
   ]
  },
  {
   "cell_type": "code",
   "execution_count": 18,
   "id": "5f34256f",
   "metadata": {},
   "outputs": [
    {
     "data": {
      "text/plain": [
       "(529, 500)"
      ]
     },
     "execution_count": 18,
     "metadata": {},
     "output_type": "execute_result"
    }
   ],
   "source": [
    "X.shape"
   ]
  },
  {
   "cell_type": "markdown",
   "id": "415fedde",
   "metadata": {},
   "source": [
    "The best lambda is smaller and the least squares mean squared error is much smaller"
   ]
  },
  {
   "cell_type": "markdown",
   "id": "4aa935ee",
   "metadata": {},
   "source": [
    "## e) \n",
    "\n",
    "$$\n",
    "w^{k+1} = w^k- 2\\tau (X^t(Xw^k - y) + \\lambda D^tDw^k)\n",
    "$$"
   ]
  },
  {
   "cell_type": "markdown",
   "id": "9240c92e",
   "metadata": {},
   "source": [
    "## f)\n",
    "\n",
    "Could not get this to work so maybe my equation was wrong"
   ]
  },
  {
   "cell_type": "code",
   "execution_count": 264,
   "id": "f0e313a5",
   "metadata": {},
   "outputs": [],
   "source": [
    "def reg_least_squares_with_gd(X, w, y, print_msg = False):\n",
    "    D = np.eye(n)-2*np.diag(np.ones(n-1),-1)+np.diag(np.ones(n-2),-2);\n",
    "    w_hats = []\n",
    "    lam = 16\n",
    "    tau = 0.1\n",
    "    m = X.shape[0]\n",
    "    \n",
    "    wk = np.zeros((n, 1))\n",
    "    for j in range(10):\n",
    "        wk = wk - 2*tau*(X.T@(y - X@wk) + lam*(D.T@D@wk))\n",
    "            \n",
    "    err = np.mean(np.sum(w - wk)**2)\n",
    "    \n",
    "    return wk\n",
    "\n",
    "rls_gd_pred = reg_least_squares_with_gd(X, w, y)"
   ]
  },
  {
   "cell_type": "code",
   "execution_count": null,
   "id": "36c073b2",
   "metadata": {},
   "outputs": [],
   "source": []
  }
 ],
 "metadata": {
  "kernelspec": {
   "display_name": "Python 3 (ipykernel)",
   "language": "python",
   "name": "python3"
  },
  "language_info": {
   "codemirror_mode": {
    "name": "ipython",
    "version": 3
   },
   "file_extension": ".py",
   "mimetype": "text/x-python",
   "name": "python",
   "nbconvert_exporter": "python",
   "pygments_lexer": "ipython3",
   "version": "3.9.12"
  }
 },
 "nbformat": 4,
 "nbformat_minor": 5
}
