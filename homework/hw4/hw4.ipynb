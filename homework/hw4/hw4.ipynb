{
 "cells": [
  {
   "cell_type": "code",
   "execution_count": 1,
   "id": "21970b62",
   "metadata": {},
   "outputs": [],
   "source": [
    "import numpy as np\n",
    "import numpy.linalg as la\n",
    "import matplotlib.pyplot as plt\n",
    "import scipy.io as sio\n",
    "import sys"
   ]
  },
  {
   "cell_type": "markdown",
   "id": "f4f31687",
   "metadata": {},
   "source": [
    "# 1."
   ]
  },
  {
   "cell_type": "code",
   "execution_count": 2,
   "id": "b18365a3",
   "metadata": {},
   "outputs": [],
   "source": [
    "def gram_schmidt(X):\n",
    "    for i in range(X.shape[1]):\n",
    "        if np.all(X[:, i] == 0):\n",
    "            X = np.delete(X, i, axis=1)\n",
    "            \n",
    "    U = np.zeros(X.shape) \n",
    "    U[:,0] = X[:,0] / sum(X[:,0]*X[:,0])**0.5\n",
    "    to_delete = []\n",
    "    for i in range(1, X.shape[1]):\n",
    "        x_p = X[:,i] - U[:,:i]@U[:,:i].T@X[:,i]\n",
    "        if np.allclose(x_p, 0):\n",
    "            to_delete.append(i)\n",
    "            continue\n",
    "        U[:,i] = x_p / sum(x_p*x_p)**0.5\n",
    "        \n",
    "\n",
    "    return np.delete(U, to_delete, axis=1)\n",
    "                            "
   ]
  },
  {
   "cell_type": "code",
   "execution_count": 3,
   "id": "eaad6dde",
   "metadata": {},
   "outputs": [
    {
     "data": {
      "text/plain": [
       "array([[-0.70710678,  0.70710678],\n",
       "       [ 0.70710678,  0.70710678]])"
      ]
     },
     "execution_count": 3,
     "metadata": {},
     "output_type": "execute_result"
    }
   ],
   "source": [
    "X = np.array([[-1,1,2],[1,-1,2]])\n",
    "\n",
    "gram_schmidt(X)"
   ]
  },
  {
   "cell_type": "markdown",
   "id": "98607872",
   "metadata": {},
   "source": [
    "# 2.\n",
    "\n",
    "## a)\n",
    "\n",
    "$u_1 = \\begin{bmatrix}\\sqrt{2}\\\\0\\end{bmatrix}/ \\sqrt{2} = \\begin{bmatrix}1\\\\0\\end{bmatrix}$\n",
    "\n",
    "$x^{\\prime}_2 = \\begin{bmatrix}0\\\\ \\sqrt{7}\\end{bmatrix} - \\begin{bmatrix}1\\\\0\\end{bmatrix}\\begin{bmatrix}1 & 0\\end{bmatrix}\\begin{bmatrix}0\\\\ \\sqrt{7}\\end{bmatrix} = \\begin{bmatrix}0\\\\ \\sqrt{7}\\end{bmatrix}$\n",
    "\n",
    "$u_2 = \\begin{bmatrix}0\\\\ \\sqrt{7}\\end{bmatrix}/ \\sqrt{7} = \\begin{bmatrix}0\\\\ 1\\end{bmatrix}$\n",
    "\n",
    "$u = \\begin{bmatrix}1 & 0\\\\ 0 & 1\\end{bmatrix}$"
   ]
  },
  {
   "cell_type": "markdown",
   "id": "653fdbbf",
   "metadata": {},
   "source": [
    "## b)\n",
    "\n",
    "### i. \n",
    "\n",
    "$P = v(v^tv)^{-1}v^t$\n",
    "\n",
    "Since the middle term is a scalar\n",
    "\n",
    "$P = \\frac{vv^t}{v^tv}$"
   ]
  },
  {
   "cell_type": "markdown",
   "id": "63fa8400",
   "metadata": {},
   "source": [
    "### ii.\n",
    "\n",
    "$||d_i||^{2}_2 = ||x_i - Px_i||^2_2$"
   ]
  },
  {
   "cell_type": "markdown",
   "id": "bb47aa1a",
   "metadata": {},
   "source": [
    "### iii.\n",
    "\n",
    "$argmin_v \\sum_{i=1}^3 ||X - Px_i||_f^2$\n",
    "\n",
    "if $v = \\begin{bmatrix}1\\\\0\\end{bmatrix}$ or  $\\begin{bmatrix}1\\\\0\\end{bmatrix}$ then the distance is 11. We can actually see that the magnitude in either direction (looking at the values in the 2 rows) is the same so if $v = \\begin{bmatrix}1\\\\1\\end{bmatrix}/\\sqrt{2}$ the distance would only be 5. The negative version of that would work as well in this case, but since P would be the same in either case that is unique while v is unique up to the sign."
   ]
  },
  {
   "cell_type": "markdown",
   "id": "7384bf38",
   "metadata": {},
   "source": [
    "## c)\n",
    "\n",
    "Since we know u_1 already, u_2 should just be orthogonal to it so:\n",
    "\n",
    "$U = \\begin{bmatrix}1 & -1\\\\ 1 & 1\\end{bmatrix}/\\sqrt{2}$\n",
    "\n",
    "Then\n",
    "\n",
    "$\\sigma_1 = ||Xu_1||_2 = ||\\begin{bmatrix}\\sqrt{2} & 3 & 0\\\\0 & 2 & \\sqrt{7}\\end{bmatrix} \\begin{bmatrix}1\\\\1\\end{bmatrix}/\\sqrt{2}||_2 = ||\\begin{bmatrix}1\\\\ \\frac{5}{\\sqrt{2}}\\\\ \\frac{7}{\\sqrt{2}}\\end{bmatrix}||_2 = \\sqrt{17}$\n",
    "\n",
    "And\n",
    "\n",
    "$\\sigma_2 = ||Xu_2||_2 = ||\\begin{bmatrix}\\sqrt{2} & 3 & 0\\\\0 & 2 & \\sqrt{7}\\end{bmatrix} \\begin{bmatrix}-1\\\\1\\end{bmatrix}/\\sqrt{2}||_2 = ||\\begin{bmatrix}-1\\\\ -\\frac{1}{\\sqrt{2}}\\\\ \\frac{7}{\\sqrt{2}}\\end{bmatrix}||_2 = \\sqrt{5}$\n",
    "\n",
    "So\n",
    "\n",
    "$\\Sigma = \\begin{bmatrix}\\sqrt{17} & 0\\\\ 0 & \\sqrt{5}\\end{bmatrix}$"
   ]
  },
  {
   "cell_type": "markdown",
   "id": "c7757995",
   "metadata": {},
   "source": [
    "# 3.\n",
    "\n",
    "## a)\n",
    "\n",
    "$X = \\sum_{i=1}^r \\sigma_iu_iv_i^t$\n",
    "\n",
    "## b)\n",
    "\n",
    "$X_k = \\sum_{i=1}^k \\sigma_iu_iv_i^t$ where $k < r$"
   ]
  },
  {
   "cell_type": "markdown",
   "id": "ca62b64f",
   "metadata": {},
   "source": [
    "# 4.\n",
    "\n",
    "$\\begin{bmatrix}1 & 0\\\\ 0 & 1\\end{bmatrix}\\begin{bmatrix}5 & 0\\\\ 0 & 1\\end{bmatrix}\\begin{bmatrix}1 & 0\\\\ 0 & 1\\end{bmatrix}$"
   ]
  },
  {
   "cell_type": "markdown",
   "id": "c5fcba44",
   "metadata": {},
   "source": [
    "# 5.\n",
    "\n",
    "$\\begin{bmatrix}-1 & 0\\\\ 0 & -1\\end{bmatrix}\\begin{bmatrix}3 & 0\\\\ 0 & 1\\end{bmatrix}\\begin{bmatrix}1 & 0\\\\ 0 & 1\\end{bmatrix}$"
   ]
  },
  {
   "cell_type": "markdown",
   "id": "ec124c56",
   "metadata": {},
   "source": [
    "# 7."
   ]
  },
  {
   "cell_type": "markdown",
   "id": "41048f6a",
   "metadata": {},
   "source": [
    "## a) and b)"
   ]
  },
  {
   "cell_type": "code",
   "execution_count": 5,
   "id": "4751eced",
   "metadata": {},
   "outputs": [
    {
     "name": "stdout",
     "output_type": "stream",
     "text": [
      "SVD Error Rate: 0.5223214285714286\n",
      "RLS Error Rate: 0.5345982142857143\n"
     ]
    }
   ],
   "source": [
    "d = sio.loadmat('face_emotion_data.mat')\n",
    "X = d['X']\n",
    "y = d['y']\n",
    "\n",
    "X_chunks = np.split(X, 8)\n",
    "y_chunks = np.split(y, 8)\n",
    "svd_errors = []\n",
    "rls_errors = []\n",
    "for i in range(8):\n",
    "    for j in range(8):\n",
    "        if i == j:\n",
    "            continue\n",
    "        x_valid = X_chunks[i]\n",
    "        y_valid = y_chunks[i]\n",
    "        x_test = X_chunks[j]\n",
    "        y_test = y_chunks[j]\n",
    "        X_train = np.concatenate(np.delete(X_chunks, [i, j], axis=0))\n",
    "        y_train = np.concatenate(np.delete(y_chunks, [i, j], axis=0))\n",
    "        \n",
    "        U, svs, V = la.svd(X_train)\n",
    "        \n",
    "        best_error = 1\n",
    "        best_w = None\n",
    "        for k in range(1, 10):\n",
    "            n, p = np.shape(X_train)\n",
    "            S = np.zeros((n,p))\n",
    "            for s in range(k):\n",
    "                S[s,s] = svs[s]\n",
    "            S_pi = la.pinv(S)\n",
    "            w = V@S_pi@U.T@y_train\n",
    "            \n",
    "            y_tilde = x_valid@w\n",
    "            y_hat = np.where(y_tilde > 0, 1, -1)\n",
    "            v_error = ((y_hat - y_valid)!=0).sum()/16\n",
    "            \n",
    "            if v_error < best_error:\n",
    "                best_w = w\n",
    "                \n",
    "        y_tilde = x_test@best_w\n",
    "        y_hat = np.where(y_tilde > 0, 1, -1)\n",
    "        error = ((y_hat - y_test)!=0).sum()/16\n",
    "        svd_errors.append(error)\n",
    "        \n",
    "        best_error = 1\n",
    "        best_w = None\n",
    "        n, p = np.shape(X_train)\n",
    "        S = np.zeros((n,p))\n",
    "        for s in range(len(svs)):\n",
    "            S[s,s] = svs[s]\n",
    "            \n",
    "        S_pi = la.pinv(S)\n",
    "        for lam in [0, 0.5, 1, 2, 4, 8, 16]:\n",
    "            w = V@la.inv(S.T@S + (lam * np.identity(p)))@S.T@U.T@y_train\n",
    "            y_tilde = x_valid@w\n",
    "            y_hat = np.where(y_tilde > 0, 1, -1)\n",
    "            v_error = ((y_hat - y_valid)!=0).sum()/16\n",
    "            \n",
    "            if v_error < best_error:\n",
    "                best_w = w\n",
    "                \n",
    "        y_tilde = x_test@best_w\n",
    "        y_hat = np.where(y_tilde > 0, 1, -1)\n",
    "        error = ((y_hat - y_test)!=0).sum()/16\n",
    "        rls_errors.append(error)\n",
    "\n",
    "print(f\"SVD Error Rate: {np.array(svd_errors).mean()}\")\n",
    "print(f\"RLS Error Rate: {np.array(rls_errors).mean()}\")"
   ]
  },
  {
   "cell_type": "markdown",
   "id": "df910108",
   "metadata": {},
   "source": [
    "## c)\n",
    "\n",
    "No we wouldn't expect these new features to be helpful since they are made from already existing features. They aren't providing any new information."
   ]
  },
  {
   "cell_type": "code",
   "execution_count": 6,
   "id": "e0b8a3bd",
   "metadata": {},
   "outputs": [],
   "source": [
    "val1 = (X * np.random.randint(-5, 5, (9))).sum(axis=1)\n",
    "val2 = (X * np.random.randint(-5, 5, (9))).sum(axis=1)\n",
    "val3 = (X * np.random.randint(-5, 5, (9))).sum(axis=1)\n",
    "for val in [val1, val2, val3]:\n",
    "    X = np.append(X, val.reshape(-1,1), axis=1)"
   ]
  },
  {
   "cell_type": "code",
   "execution_count": 7,
   "id": "4a385592",
   "metadata": {},
   "outputs": [
    {
     "name": "stdout",
     "output_type": "stream",
     "text": [
      "SVD Error Rate: 0.4799107142857143\n",
      "RLS Error Rate: 0.49330357142857145\n"
     ]
    }
   ],
   "source": [
    "X_chunks = np.split(X, 8)\n",
    "y_chunks = np.split(y, 8)\n",
    "svd_errors = []\n",
    "rls_errors = []\n",
    "for i in range(8):\n",
    "    for j in range(8):\n",
    "        if i == j:\n",
    "            continue\n",
    "        x_valid = X_chunks[i]\n",
    "        y_valid = y_chunks[i]\n",
    "        x_test = X_chunks[j]\n",
    "        y_test = y_chunks[j]\n",
    "        X_train = np.concatenate(np.delete(X_chunks, [i, j], axis=0))\n",
    "        y_train = np.concatenate(np.delete(y_chunks, [i, j], axis=0))\n",
    "        \n",
    "        U, svs, V = la.svd(X_train)\n",
    "        \n",
    "        best_error = 1\n",
    "        best_w = None\n",
    "        for k in range(1, 10):\n",
    "            n, p = np.shape(X_train)\n",
    "            S = np.zeros((n,p))\n",
    "            for s in range(k):\n",
    "                S[s,s] = svs[s]\n",
    "            S_pi = la.pinv(S)\n",
    "            w = V@S_pi@U.T@y_train\n",
    "            \n",
    "            y_tilde = x_valid@w\n",
    "            y_hat = np.where(y_tilde > 0, 1, -1)\n",
    "            v_error = ((y_hat - y_valid)!=0).sum()/16\n",
    "            \n",
    "            if v_error < best_error:\n",
    "                best_w = w\n",
    "                \n",
    "        y_tilde = x_test@best_w\n",
    "        y_hat = np.where(y_tilde > 0, 1, -1)\n",
    "        error = ((y_hat - y_test)!=0).sum()/16\n",
    "        svd_errors.append(error)\n",
    "        \n",
    "        best_error = 1\n",
    "        best_w = None\n",
    "        n, p = np.shape(X_train)\n",
    "        S = np.zeros((n,p))\n",
    "        for s in range(len(svs)):\n",
    "            S[s,s] = svs[s]\n",
    "        S_pi = la.pinv(S)\n",
    "        for lam in [0, 0.5, 1, 2, 4, 8, 16]:\n",
    "            w = V@la.inv(S.T@S + (lam * np.identity(p)))@S.T@U.T@y_train\n",
    "            y_tilde = x_valid@w\n",
    "            y_hat = np.where(y_tilde > 0, 1, -1)\n",
    "            v_error = ((y_hat - y_valid)!=0).sum()/16\n",
    "            \n",
    "            if v_error < best_error:\n",
    "                best_w = w\n",
    "                \n",
    "        y_tilde = x_test@best_w\n",
    "        y_hat = np.where(y_tilde > 0, 1, -1)\n",
    "        error = ((y_hat - y_test)!=0).sum()/16\n",
    "        rls_errors.append(error)\n",
    "\n",
    "print(f\"SVD Error Rate: {np.array(svd_errors).mean()}\")\n",
    "print(f\"RLS Error Rate: {np.array(rls_errors).mean()}\")\n"
   ]
  },
  {
   "cell_type": "code",
   "execution_count": null,
   "id": "e8bf1632",
   "metadata": {},
   "outputs": [],
   "source": []
  }
 ],
 "metadata": {
  "kernelspec": {
   "display_name": "Python 3 (ipykernel)",
   "language": "python",
   "name": "python3"
  },
  "language_info": {
   "codemirror_mode": {
    "name": "ipython",
    "version": 3
   },
   "file_extension": ".py",
   "mimetype": "text/x-python",
   "name": "python",
   "nbconvert_exporter": "python",
   "pygments_lexer": "ipython3",
   "version": "3.9.12"
  }
 },
 "nbformat": 4,
 "nbformat_minor": 5
}
