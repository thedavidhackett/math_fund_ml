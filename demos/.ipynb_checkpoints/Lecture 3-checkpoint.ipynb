{
 "cells": [
  {
   "cell_type": "markdown",
   "metadata": {
    "id": "w3RF76tYL4i7"
   },
   "source": [
    "# Lecture 3"
   ]
  },
  {
   "cell_type": "code",
   "execution_count": 1,
   "metadata": {
    "executionInfo": {
     "elapsed": 8,
     "status": "ok",
     "timestamp": 1634006019507,
     "user": {
      "displayName": "Rebecca Willett",
      "photoUrl": "https://lh3.googleusercontent.com/a-/AOh14Gj2R4XaqTOzHLtazbzyi_VAp8-vYknT-jhucUQ=s64",
      "userId": "12820388659980941912"
     },
     "user_tz": 300
    },
    "id": "ea9UVD92L4i_"
   },
   "outputs": [],
   "source": [
    "import numpy as np\n",
    "import numpy.linalg as la # matrix rank, inverse\n",
    "import numpy.random as rnd # generate noise in simulated data\n",
    "import matplotlib . pyplot as plt # plots"
   ]
  },
  {
   "cell_type": "markdown",
   "metadata": {
    "id": "cRnnht0jL4jA"
   },
   "source": [
    "### Matrix rank"
   ]
  },
  {
   "cell_type": "code",
   "execution_count": 2,
   "metadata": {
    "colab": {
     "base_uri": "https://localhost:8080/"
    },
    "executionInfo": {
     "elapsed": 141,
     "status": "ok",
     "timestamp": 1634006019642,
     "user": {
      "displayName": "Rebecca Willett",
      "photoUrl": "https://lh3.googleusercontent.com/a-/AOh14Gj2R4XaqTOzHLtazbzyi_VAp8-vYknT-jhucUQ=s64",
      "userId": "12820388659980941912"
     },
     "user_tz": 300
    },
    "id": "BZB7ymnEL4jA",
    "outputId": "4cce52a2-b916-4dc4-efa7-671f02a627e5"
   },
   "outputs": [
    {
     "name": "stdout",
     "output_type": "stream",
     "text": [
      "X1 = \n",
      "[[1 1 0 0 0]\n",
      " [0 1 2 0 3]\n",
      " [0 5 0 6 0]]\n",
      "rank(X1) = 3\n",
      "\n",
      "\n",
      "X2 = \n",
      "[[1 0]\n",
      " [0 1]\n",
      " [0 1]]\n",
      "rank(X2) = 2\n",
      "\n",
      "\n",
      "X3 = \n",
      "[[1 0 1]\n",
      " [0 1 1]\n",
      " [0 1 1]]\n",
      "rank(X3) = 2\n",
      "\n",
      "\n"
     ]
    }
   ],
   "source": [
    "X1 = np.array([[1, 1, 0, 0, 0],[0, 1, 2, 0, 3],[0, 5, 0, 6, 0]])\n",
    "print(\"X1 = \\n%s\" % np.matrix(X1))\n",
    "print(\"rank(X1) = %d\\n\\n\" % la.matrix_rank(X1))\n",
    "\n",
    "X2 = np.array([[1, 0],[0, 1],[0, 1]])\n",
    "print(\"X2 = \\n%s\" % np.matrix(X2))\n",
    "print(\"rank(X2) = %d\\n\\n\" % la.matrix_rank(X2))\n",
    "\n",
    "X3 = np.array([[1, 0, 1],[0, 1, 1],[0, 1, 1]])\n",
    "print(\"X3 = \\n%s\" % np.matrix(X3))\n",
    "print(\"rank(X3) = %d\\n\\n\" % la.matrix_rank(X3))\n",
    "\n",
    "\n"
   ]
  },
  {
   "cell_type": "markdown",
   "metadata": {
    "id": "SOBUML05L4jB"
   },
   "source": [
    "## Matrix inverse"
   ]
  },
  {
   "cell_type": "code",
   "execution_count": 3,
   "metadata": {
    "colab": {
     "base_uri": "https://localhost:8080/",
     "height": 759
    },
    "executionInfo": {
     "elapsed": 250,
     "status": "error",
     "timestamp": 1634006019889,
     "user": {
      "displayName": "Rebecca Willett",
      "photoUrl": "https://lh3.googleusercontent.com/a-/AOh14Gj2R4XaqTOzHLtazbzyi_VAp8-vYknT-jhucUQ=s64",
      "userId": "12820388659980941912"
     },
     "user_tz": 300
    },
    "id": "kPCDw6STL4jC",
    "outputId": "ccb76834-72a3-4548-c1ee-bc3796225a6c"
   },
   "outputs": [
    {
     "name": "stdout",
     "output_type": "stream",
     "text": [
      "A1 = \n",
      "[[0.25 0.  ]\n",
      " [0.   2.  ]]\n",
      "\n",
      "A1^{-1} = \n",
      "[[4.  0. ]\n",
      " [0.  0.5]]\n",
      "\n",
      "\n",
      "A2 = \n",
      "[[1 2]\n",
      " [3 4]]\n",
      "\n",
      "A2^{-1} = \n",
      "[[-2.   1. ]\n",
      " [ 1.5 -0.5]]\n",
      "\n",
      "\n",
      "A3 = \n",
      "[[1 2]\n",
      " [2 4]]\n",
      "\n"
     ]
    },
    {
     "ename": "LinAlgError",
     "evalue": "Singular matrix",
     "output_type": "error",
     "traceback": [
      "\u001b[0;31m---------------------------------------------------------------------------\u001b[0m",
      "\u001b[0;31mLinAlgError\u001b[0m                               Traceback (most recent call last)",
      "Input \u001b[0;32mIn [3]\u001b[0m, in \u001b[0;36m<cell line: 11>\u001b[0;34m()\u001b[0m\n\u001b[1;32m      9\u001b[0m A3 \u001b[38;5;241m=\u001b[39m np\u001b[38;5;241m.\u001b[39marray([[\u001b[38;5;241m1\u001b[39m, \u001b[38;5;241m2\u001b[39m],[\u001b[38;5;241m2\u001b[39m,\u001b[38;5;241m4\u001b[39m]])\n\u001b[1;32m     10\u001b[0m \u001b[38;5;28mprint\u001b[39m(\u001b[38;5;124m\"\u001b[39m\u001b[38;5;124mA3 = \u001b[39m\u001b[38;5;130;01m\\n\u001b[39;00m\u001b[38;5;132;01m%s\u001b[39;00m\u001b[38;5;130;01m\\n\u001b[39;00m\u001b[38;5;124m\"\u001b[39m \u001b[38;5;241m%\u001b[39m np\u001b[38;5;241m.\u001b[39mmatrix(A3))\n\u001b[0;32m---> 11\u001b[0m \u001b[38;5;28mprint\u001b[39m(\u001b[38;5;124m\"\u001b[39m\u001b[38;5;124mA3^\u001b[39m\u001b[38;5;124m{\u001b[39m\u001b[38;5;124m-1} = \u001b[39m\u001b[38;5;130;01m\\n\u001b[39;00m\u001b[38;5;132;01m%s\u001b[39;00m\u001b[38;5;130;01m\\n\u001b[39;00m\u001b[38;5;130;01m\\n\u001b[39;00m\u001b[38;5;124m\"\u001b[39m\u001b[38;5;241m%\u001b[39m\u001b[43mla\u001b[49m\u001b[38;5;241;43m.\u001b[39;49m\u001b[43minv\u001b[49m\u001b[43m(\u001b[49m\u001b[43mA3\u001b[49m\u001b[43m)\u001b[49m)\n",
      "File \u001b[0;32m<__array_function__ internals>:180\u001b[0m, in \u001b[0;36minv\u001b[0;34m(*args, **kwargs)\u001b[0m\n",
      "File \u001b[0;32m/usr/local/lib/python3.9/site-packages/numpy/linalg/linalg.py:552\u001b[0m, in \u001b[0;36minv\u001b[0;34m(a)\u001b[0m\n\u001b[1;32m    550\u001b[0m signature \u001b[38;5;241m=\u001b[39m \u001b[38;5;124m'\u001b[39m\u001b[38;5;124mD->D\u001b[39m\u001b[38;5;124m'\u001b[39m \u001b[38;5;28;01mif\u001b[39;00m isComplexType(t) \u001b[38;5;28;01melse\u001b[39;00m \u001b[38;5;124m'\u001b[39m\u001b[38;5;124md->d\u001b[39m\u001b[38;5;124m'\u001b[39m\n\u001b[1;32m    551\u001b[0m extobj \u001b[38;5;241m=\u001b[39m get_linalg_error_extobj(_raise_linalgerror_singular)\n\u001b[0;32m--> 552\u001b[0m ainv \u001b[38;5;241m=\u001b[39m \u001b[43m_umath_linalg\u001b[49m\u001b[38;5;241;43m.\u001b[39;49m\u001b[43minv\u001b[49m\u001b[43m(\u001b[49m\u001b[43ma\u001b[49m\u001b[43m,\u001b[49m\u001b[43m \u001b[49m\u001b[43msignature\u001b[49m\u001b[38;5;241;43m=\u001b[39;49m\u001b[43msignature\u001b[49m\u001b[43m,\u001b[49m\u001b[43m \u001b[49m\u001b[43mextobj\u001b[49m\u001b[38;5;241;43m=\u001b[39;49m\u001b[43mextobj\u001b[49m\u001b[43m)\u001b[49m\n\u001b[1;32m    553\u001b[0m \u001b[38;5;28;01mreturn\u001b[39;00m wrap(ainv\u001b[38;5;241m.\u001b[39mastype(result_t, copy\u001b[38;5;241m=\u001b[39m\u001b[38;5;28;01mFalse\u001b[39;00m))\n",
      "File \u001b[0;32m/usr/local/lib/python3.9/site-packages/numpy/linalg/linalg.py:89\u001b[0m, in \u001b[0;36m_raise_linalgerror_singular\u001b[0;34m(err, flag)\u001b[0m\n\u001b[1;32m     88\u001b[0m \u001b[38;5;28;01mdef\u001b[39;00m \u001b[38;5;21m_raise_linalgerror_singular\u001b[39m(err, flag):\n\u001b[0;32m---> 89\u001b[0m     \u001b[38;5;28;01mraise\u001b[39;00m LinAlgError(\u001b[38;5;124m\"\u001b[39m\u001b[38;5;124mSingular matrix\u001b[39m\u001b[38;5;124m\"\u001b[39m)\n",
      "\u001b[0;31mLinAlgError\u001b[0m: Singular matrix"
     ]
    }
   ],
   "source": [
    "A1 = np.array([[.25, 0],[0,2]])\n",
    "print(\"A1 = \\n%s\\n\" % np.matrix(A1))\n",
    "print(\"A1^{-1} = \\n%s\\n\\n\" % la.inv(A1))\n",
    "\n",
    "A2 = np.array([[1, 2],[3,4]])\n",
    "print(\"A2 = \\n%s\\n\" % np.matrix(A2))\n",
    "print(\"A2^{-1} = \\n%s\\n\\n\" % la.inv(A2))\n",
    "\n",
    "A3 = np.array([[1, 2],[2,4]])\n",
    "print(\"A3 = \\n%s\\n\" % np.matrix(A3))\n",
    "print(\"A3^{-1} = \\n%s\\n\\n\"%la.inv(A3)) # this inverse does not exist and we expect an error\n"
   ]
  },
  {
   "cell_type": "markdown",
   "metadata": {
    "id": "w7GXnUcNL4jC"
   },
   "source": [
    "## Least squares example"
   ]
  },
  {
   "cell_type": "code",
   "execution_count": 4,
   "metadata": {
    "executionInfo": {
     "elapsed": 6,
     "status": "aborted",
     "timestamp": 1634006019888,
     "user": {
      "displayName": "Rebecca Willett",
      "photoUrl": "https://lh3.googleusercontent.com/a-/AOh14Gj2R4XaqTOzHLtazbzyi_VAp8-vYknT-jhucUQ=s64",
      "userId": "12820388659980941912"
     },
     "user_tz": 300
    },
    "id": "vEs0uwxHL4jD"
   },
   "outputs": [
    {
     "name": "stdout",
     "output_type": "stream",
     "text": [
      "X = \n",
      "[[1.  0. ]\n",
      " [1.  0.1]\n",
      " [1.  0.2]\n",
      " [1.  0.3]\n",
      " [1.  0.4]\n",
      " [1.  0.5]\n",
      " [1.  0.6]\n",
      " [1.  0.7]\n",
      " [1.  0.8]\n",
      " [1.  0.9]]\n",
      "\n",
      "\n",
      "w = \n",
      "[[1]\n",
      " [2]]\n",
      "\n",
      "\n",
      "noise = \n",
      "[[ 0.06992321]\n",
      " [ 0.13981023]\n",
      " [-0.16967052]\n",
      " [-0.20924807]\n",
      " [-0.0663778 ]\n",
      " [ 0.07888221]\n",
      " [-0.03331721]\n",
      " [-0.08712455]\n",
      " [-0.18422209]\n",
      " [-0.29261958]]\n",
      "\n",
      "\n",
      "X@w = \n",
      "[[1. ]\n",
      " [1.2]\n",
      " [1.4]\n",
      " [1.6]\n",
      " [1.8]\n",
      " [2. ]\n",
      " [2.2]\n",
      " [2.4]\n",
      " [2.6]\n",
      " [2.8]]\n",
      "\n",
      "\n",
      "y = \n",
      "[[1.06992321]\n",
      " [1.33981023]\n",
      " [1.23032948]\n",
      " [1.39075193]\n",
      " [1.7336222 ]\n",
      " [2.07888221]\n",
      " [2.16668279]\n",
      " [2.31287545]\n",
      " [2.41577791]\n",
      " [2.50738042]]\n",
      "\n",
      "\n",
      "w_hat = \n",
      "[[1.04583983]\n",
      " [1.73058612]]\n",
      "\n",
      "\n"
     ]
    }
   ],
   "source": [
    "## generate data\n",
    "\n",
    "n = 10\n",
    "X1 = np.ones((n))\n",
    "z = np.arange(n)/n\n",
    "X = np.vstack((X1, z)).T\n",
    "print(\"X = \\n%s\\n\\n\" % X)\n",
    "w = np.matrix([[1],[2]])\n",
    "print(\"w = \\n%s\\n\\n\" % w)\n",
    "noise_std = .3\n",
    "noise = rnd.normal(size=(n,1))*noise_std\n",
    "print(\"noise = \\n%s\\n\\n\" % noise)\n",
    "y = X@w + noise\n",
    "print(\"X@w = \\n%s\\n\\n\" % (X@w))\n",
    "print(\"y = \\n%s\\n\\n\" % y)\n",
    "\n",
    "## least squares estimation\n",
    "\n",
    "w_hat = la.inv(X.T@X)@X.T@y\n",
    "print(\"w_hat = \\n%s\\n\\n\" % w_hat)\n",
    "\n",
    "## test data and predictions\n",
    "\n",
    "n_test = 100;\n",
    "X1_test = np.ones((n_test))\n",
    "z_test = np.linspace(0,1,n_test)\n",
    "X_test = np.vstack((X1_test,z_test)).T\n",
    "y_test = X_test@w\n",
    "y_predict = X_test@w_hat\n"
   ]
  },
  {
   "cell_type": "markdown",
   "metadata": {
    "id": "CPXmuYyaL4jE"
   },
   "source": [
    "## plot results"
   ]
  },
  {
   "cell_type": "code",
   "execution_count": null,
   "metadata": {
    "colab": {
     "base_uri": "https://localhost:8080/",
     "height": 295
    },
    "executionInfo": {
     "elapsed": 309,
     "status": "ok",
     "timestamp": 1633635579337,
     "user": {
      "displayName": "Rebecca Willett",
      "photoUrl": "https://lh3.googleusercontent.com/a-/AOh14Gj2R4XaqTOzHLtazbzyi_VAp8-vYknT-jhucUQ=s64",
      "userId": "12820388659980941912"
     },
     "user_tz": 300
    },
    "id": "DTeW859NL4jE",
    "outputId": "eab65b6e-b3e6-432d-8748-a11a7bbede3a"
   },
   "outputs": [
    {
     "data": {
      "image/png": "[encoded data removed]",
      "text/plain": [
       "<Figure size 432x288 with 1 Axes>"
      ]
     },
     "metadata": {
      "needs_background": "light"
     },
     "output_type": "display_data"
    }
   ],
   "source": [
    "plt . plot (z, y, '.', z_test, y_test, z_test, y_predict, linewidth =2)\n",
    "plt . legend ([ 'data ', '\"true\" response', 'predicted response'], loc='upper left')\n",
    "plt . title ('least squares linear fit')\n",
    "plt . xlabel ('z')\n",
    "plt . ylabel ('y')\n",
    "plt . show ()"
   ]
  },
  {
   "cell_type": "code",
   "execution_count": null,
   "metadata": {
    "id": "19LZwFMiL4jF"
   },
   "outputs": [],
   "source": []
  }
 ],
 "metadata": {
  "colab": {
   "name": "Lecture 3.ipynb",
   "provenance": []
  },
  "kernelspec": {
   "display_name": "Python 3 (ipykernel)",
   "language": "python",
   "name": "python3"
  },
  "language_info": {
   "codemirror_mode": {
    "name": "ipython",
    "version": 3
   },
   "file_extension": ".py",
   "mimetype": "text/x-python",
   "name": "python",
   "nbconvert_exporter": "python",
   "pygments_lexer": "ipython3",
   "version": "3.9.12"
  }
 },
 "nbformat": 4,
 "nbformat_minor": 1
}
